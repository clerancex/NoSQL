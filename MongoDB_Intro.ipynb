{
  "nbformat": 4,
  "nbformat_minor": 0,
  "metadata": {
    "kernelspec": {
      "display_name": "Python 3",
      "language": "python",
      "name": "python3"
    },
    "language_info": {
      "codemirror_mode": {
        "name": "ipython",
        "version": 3
      },
      "file_extension": ".py",
      "mimetype": "text/x-python",
      "name": "python",
      "nbconvert_exporter": "python",
      "pygments_lexer": "ipython3",
      "version": "3.7.1"
    },
    "colab": {
      "name": "MongoDB - Intro In Class (USC) (16267).ipynb",
      "provenance": [],
      "collapsed_sections": [],
      "include_colab_link": true
    }
  },
  "cells": [
    {
      "cell_type": "markdown",
      "metadata": {
        "id": "view-in-github",
        "colab_type": "text"
      },
      "source": [
        "<a href=\"https://colab.research.google.com/github/clerancex/NoSQL/blob/main/MongoDB_Intro.ipynb\" target=\"_parent\"><img src=\"https://colab.research.google.com/assets/colab-badge.svg\" alt=\"Open In Colab\"/></a>"
      ]
    },
    {
      "cell_type": "markdown",
      "metadata": {
        "id": "kBr5nERsT4s7"
      },
      "source": [
        "# MongoDB Intro - In Class \n"
      ]
    },
    {
      "cell_type": "code",
      "metadata": {
        "id": "wHaveI-CT4tD"
      },
      "source": [
        "import pymongo\n",
        "from pymongo import MongoClient\n",
        "\n",
        "# connecting to your client MongoDB\n",
        "\n",
        "client = MongoClient(db_url)\n",
        "\n",
        "\n",
        "# See all databases: list(client.list_databases())\n",
        "airbnb=client['sample_airbnb']['listingsAndReviews']\n",
        "geospatial=client['sample_geospatial']['shipwrecks']\n",
        "movies=client['sample_mflix']\n",
        "supplies=client['sample_supplies']['sales']\n",
        "training=client['sample_training']\n",
        "weather=client['sample_weatherdata']['data']\n",
        "grades = training['grades'] \n",
        "\n",
        "# OTHER NOTES --- \n",
        "# list dbs\n",
        "# list_databases()\n",
        "\n",
        "# list collections\n",
        "# list_collection_names()\n",
        "\n",
        "# SORT --> SKIP --> LIMIT\n",
        "# collection.distinct('address.country')\n"
      ],
      "execution_count": null,
      "outputs": []
    },
    {
      "cell_type": "code",
      "metadata": {
        "colab": {
          "base_uri": "https://localhost:8080/"
        },
        "id": "fARLnxRmB7rR",
        "outputId": "d0c4638f-f889-47ea-89bc-557695f1ab7f"
      },
      "source": [
        "# Test connection\n",
        "list(airbnb.find({'bedrooms': 10}, {\"_id\":0, \"name\":1, \"bedrooms\":1}))"
      ],
      "execution_count": null,
      "outputs": [
        {
          "output_type": "execute_result",
          "data": {
            "text/plain": [
              "[{'bedrooms': 10, 'name': 'Great Complex of the Cellars'},\n",
              " {'bedrooms': 10, 'name': 'Excellent Location and price !'}]"
            ]
          },
          "metadata": {
            "tags": []
          },
          "execution_count": 2
        }
      ]
    },
    {
      "cell_type": "markdown",
      "metadata": {
        "id": "HlnSXd-yT4tE"
      },
      "source": [
        "### All Query Operators discussed below can be found here:\n",
        "https://docs.mongodb.com/manual/reference/operator/query/"
      ]
    },
    {
      "cell_type": "markdown",
      "metadata": {
        "id": "5npFkr6PT4tE"
      },
      "source": [
        "## Question 1  \n",
        "\n",
        "Find the number of listings in the Airbnb collection with \"accommodates\" value of 5 i.e. that accomodates 5 people. "
      ]
    },
    {
      "cell_type": "code",
      "metadata": {
        "colab": {
          "base_uri": "https://localhost:8080/"
        },
        "id": "p_3G16v_CFv9",
        "outputId": "91d15145-ba6e-4ffb-c5ea-3cc271f1e002"
      },
      "source": [
        "airbnb.count_documents({\"accommodates\":5})"
      ],
      "execution_count": null,
      "outputs": [
        {
          "output_type": "execute_result",
          "data": {
            "text/plain": [
              "264"
            ]
          },
          "metadata": {
            "tags": []
          },
          "execution_count": 3
        }
      ]
    },
    {
      "cell_type": "code",
      "metadata": {
        "colab": {
          "base_uri": "https://localhost:8080/"
        },
        "id": "oklqNJ-8CueR",
        "outputId": "06c730be-0d84-4168-b438-871aef8e1c8e"
      },
      "source": [
        "airbnb.find({\"accommodates\":5}).count()\n",
        "\n",
        "# READ Operations\n",
        "# collection.find({ <query criteria> }) \n",
        "\n"
      ],
      "execution_count": null,
      "outputs": [
        {
          "output_type": "stream",
          "text": [
            "/usr/local/lib/python3.6/dist-packages/ipykernel_launcher.py:1: DeprecationWarning: count is deprecated. Use Collection.count_documents instead.\n",
            "  \"\"\"Entry point for launching an IPython kernel.\n"
          ],
          "name": "stderr"
        },
        {
          "output_type": "execute_result",
          "data": {
            "text/plain": [
              "264"
            ]
          },
          "metadata": {
            "tags": []
          },
          "execution_count": 5
        }
      ]
    },
    {
      "cell_type": "markdown",
      "metadata": {
        "id": "NXRxRrZvT4tH"
      },
      "source": [
        "## Question 2 \n",
        "\n",
        "Find the number of documents in the Airbnb collection that have a \"TV\" as a value in the \"amenities\" array."
      ]
    },
    {
      "cell_type": "code",
      "metadata": {
        "colab": {
          "base_uri": "https://localhost:8080/"
        },
        "id": "lkYd9JoODeXb",
        "outputId": "cc9cc47f-b684-4e66-d8cc-d0393ffbfcc1"
      },
      "source": [
        "airbnb.count_documents({\"amenities\":\"TV\"})\n",
        "# \"amenities\": [x,y,z, ...]"
      ],
      "execution_count": null,
      "outputs": [
        {
          "output_type": "execute_result",
          "data": {
            "text/plain": [
              "4280"
            ]
          },
          "metadata": {
            "tags": []
          },
          "execution_count": 6
        }
      ]
    },
    {
      "cell_type": "code",
      "metadata": {
        "colab": {
          "base_uri": "https://localhost:8080/"
        },
        "id": "B0D6FnFMD0gq",
        "outputId": "0f199b9f-d0bc-4e7f-e4b7-f0a4d608317d"
      },
      "source": [
        "airbnb.count_documents({\"amenities\": [\"TV\"] })\n",
        "\n",
        "# \"amenities\":[x,y, [\"TV\"], z]"
      ],
      "execution_count": null,
      "outputs": [
        {
          "output_type": "execute_result",
          "data": {
            "text/plain": [
              "0"
            ]
          },
          "metadata": {
            "tags": []
          },
          "execution_count": 7
        }
      ]
    },
    {
      "cell_type": "markdown",
      "metadata": {
        "id": "11FHZDhGT4tI"
      },
      "source": [
        "## Question 3\n",
        "\n",
        "Find all the listings with 10 bedrooms, sorted by name descending and ONLY return the name, bedrooms, amenities, and address field. Limit to 1 result.\n",
        "\n",
        "\n",
        "\n",
        "```\n",
        "SELECT name, bedrooms...\n",
        "FROM airbnb\n",
        "WHERE bedrooms=10\n",
        "ORDER BY name desc\n",
        "LIMIT 1\n",
        "```\n",
        "\n",
        "\n"
      ]
    },
    {
      "cell_type": "code",
      "metadata": {
        "colab": {
          "base_uri": "https://localhost:8080/"
        },
        "id": "y4XUiPGlEFE6",
        "outputId": "f38ed907-e870-4623-f6f9-3cb7a3ef88f4"
      },
      "source": [
        "list(airbnb.find({\"bedrooms\": 10}, {\"_id\":0, \"name\":1, \"bedrooms\":1, \"address\":1}).sort(\"name\", -1).limit(1))\n",
        "\n",
        "# use list() to display objects in Read Operations\n",
        "# collection.find( { <query criteria> }, { <projection> } ).sort().limit()"
      ],
      "execution_count": null,
      "outputs": [
        {
          "output_type": "execute_result",
          "data": {
            "text/plain": [
              "[{'address': {'country': 'Portugal',\n",
              "   'country_code': 'PT',\n",
              "   'government_area': 'Santa Marinha e São Pedro da Afurada',\n",
              "   'location': {'coordinates': [-8.62181, 41.13354],\n",
              "    'is_location_exact': False,\n",
              "    'type': 'Point'},\n",
              "   'market': 'Porto',\n",
              "   'street': 'Vila Nova de Gaia, Porto, Portugal',\n",
              "   'suburb': ''},\n",
              "  'bedrooms': 10,\n",
              "  'name': 'Great Complex of the Cellars'}]"
            ]
          },
          "metadata": {
            "tags": []
          },
          "execution_count": 12
        }
      ]
    },
    {
      "cell_type": "markdown",
      "metadata": {
        "id": "lRknkqcHT4tI"
      },
      "source": [
        "## Question 4\n",
        "\n",
        "SELECT name, number_of_reviews  <br>\n",
        "FROM airbnb <br>\n",
        "ORDER BY number_of_reviews desc <br>\n",
        "LIMIT 1"
      ]
    },
    {
      "cell_type": "code",
      "metadata": {
        "colab": {
          "base_uri": "https://localhost:8080/"
        },
        "id": "CCHwiP4WHgSM",
        "outputId": "f32a2849-999d-4034-d921-a551f2f9630f"
      },
      "source": [
        "list(airbnb.find({}, {\"_id\":0, \"name\":1, \"number_of_reviews\":1}).sort(\"number_of_reviews\",-1).limit(1))"
      ],
      "execution_count": null,
      "outputs": [
        {
          "output_type": "execute_result",
          "data": {
            "text/plain": [
              "[{'name': '#Private Studio - Waikiki Dream', 'number_of_reviews': 533}]"
            ]
          },
          "metadata": {
            "tags": []
          },
          "execution_count": 14
        }
      ]
    },
    {
      "cell_type": "markdown",
      "metadata": {
        "id": "NDWPkDG8T4tJ"
      },
      "source": [
        "# Comparison Operators\n",
        "\n",
        "~~~\n",
        "$eq: Matches values that are equal to a specified value.\n",
        "$gt: Matches values that are greater than a specified value.\n",
        "$gte: Matches values that are greater than or equal to a specified value.\n",
        "$in: Matches any of the values specified in an array.\n",
        "$lt: Matches values that are less than a specified value.\n",
        "$lte: Matches values that are less than or equal to a specified value.\n",
        "$ne: Matches all values that are not equal to a specified value.\n",
        "$nin: Matches none of the values specified in an array.\n",
        "~~~\n",
        "\n",
        "See https://docs.mongodb.com/manual/reference/operator/query-comparison/ for more info."
      ]
    },
    {
      "cell_type": "markdown",
      "metadata": {
        "id": "J1VsSSEiT4tJ"
      },
      "source": [
        "## Question 5 \n",
        "\n",
        "Return the document where \"accommodates\" is greater than 6, and ordered by \"number_of_reviews\" descending, limit to 1 result. Only return \"name\", \"accommodates\", \"number_of_reviews\", and the \"address\"."
      ]
    },
    {
      "cell_type": "code",
      "metadata": {
        "colab": {
          "base_uri": "https://localhost:8080/"
        },
        "id": "pG5UmfcsJPZK",
        "outputId": "70ae8f1b-4b16-46b1-dbf9-822d0dc21d84"
      },
      "source": [
        "list(airbnb\n",
        "     .find({\"accommodates\":{\"$gt\":6}}, {\"_id\":0, \"name\":1, \"accommodates\":1, \"number_of_reviews\":1, \"address\":1})\n",
        "     .sort(\"number_of_reviews\",-1)\n",
        "     .limit(1)\n",
        ")"
      ],
      "execution_count": null,
      "outputs": [
        {
          "output_type": "execute_result",
          "data": {
            "text/plain": [
              "[{'accommodates': 11,\n",
              "  'address': {'country': 'Spain',\n",
              "   'country_code': 'ES',\n",
              "   'government_area': 'el Putxet i el Farró',\n",
              "   'location': {'coordinates': [2.1465, 41.40914],\n",
              "    'is_location_exact': False,\n",
              "    'type': 'Point'},\n",
              "   'market': 'Barcelona',\n",
              "   'street': 'Barcelona, Catalonia, Spain',\n",
              "   'suburb': 'Sarrià-Sant Gervasi'},\n",
              "  'name': 'Spectacular Modern Uptown Duplex',\n",
              "  'number_of_reviews': 273}]"
            ]
          },
          "metadata": {
            "tags": []
          },
          "execution_count": 15
        }
      ]
    },
    {
      "cell_type": "markdown",
      "metadata": {
        "id": "cf9NPzJHT4tK"
      },
      "source": [
        "## Question 6 - $nin\n",
        "\n",
        "Return the document where the \"accomoodates\" is greater than 3 and less than 6, and \"amenities\" value where that does not contain a \"TV\" nor \"Internet\" and \"number_of_reviews\" greater than or equal to 22. Only return the name, accomodates, amenities and number_of_reviews fields and sort by the number_of_reviews field descending. Limit to 1 result.  "
      ]
    },
    {
      "cell_type": "code",
      "metadata": {
        "colab": {
          "base_uri": "https://localhost:8080/"
        },
        "id": "Fuyv2ajMKDXw",
        "outputId": "d9f2b5a0-3c7a-4aaf-ece6-181c6c97d1c0"
      },
      "source": [
        "list(\n",
        "    airbnb\n",
        "     .find({\n",
        "         \"accommodates\":{\"$gt\":3, \"$lt\":6}, \n",
        "         \"amenities\": {\"$nin\": [\"TV\", \"Internet\"]},\n",
        "         \"number_of_reviews\": {\"$gte\": 22}\n",
        "        }, \n",
        "         {\"_id\":0, \"name\":1, \"accommodates\":1, \"amenities\":1, \"number_of_reviews\":1})\n",
        "     .sort(\"number_of_reviews\", -1)\n",
        "     .limit(1)\n",
        ")"
      ],
      "execution_count": null,
      "outputs": [
        {
          "output_type": "execute_result",
          "data": {
            "text/plain": [
              "[{'accommodates': 5,\n",
              "  'amenities': ['Wifi',\n",
              "   'Kitchen',\n",
              "   'Free parking on premises',\n",
              "   'Buzzer/wireless intercom',\n",
              "   'Family/kid friendly',\n",
              "   'Washer',\n",
              "   'First aid kit',\n",
              "   'Fire extinguisher',\n",
              "   'Essentials',\n",
              "   'Shampoo',\n",
              "   '24-hour check-in',\n",
              "   'Hangers',\n",
              "   'Hair dryer',\n",
              "   'Iron',\n",
              "   'Laptop friendly workspace',\n",
              "   'translation missing: en.hosting_amenity_50',\n",
              "   'High chair',\n",
              "   'Hot water',\n",
              "   'Bed linens',\n",
              "   'Ethernet connection',\n",
              "   'Microwave',\n",
              "   'Coffee maker',\n",
              "   'Refrigerator',\n",
              "   'Dishes and silverware',\n",
              "   'Cooking basics',\n",
              "   'Oven',\n",
              "   'Stove',\n",
              "   'Patio or balcony',\n",
              "   'Luggage dropoff allowed',\n",
              "   'Long term stays allowed',\n",
              "   'Cleaning before checkout',\n",
              "   'Wide hallway clearance',\n",
              "   'Wide doorway',\n",
              "   'Flat path to front door',\n",
              "   'Well-lit path to entrance',\n",
              "   'Step-free access',\n",
              "   'Accessible-height bed',\n",
              "   'Step-free access',\n",
              "   'Accessible-height toilet',\n",
              "   'Host greets you'],\n",
              "  'name': 'Lovely apartment with private parking',\n",
              "  'number_of_reviews': 204}]"
            ]
          },
          "metadata": {
            "tags": []
          },
          "execution_count": 16
        }
      ]
    },
    {
      "cell_type": "markdown",
      "metadata": {
        "id": "a8k-xrMoT4tL"
      },
      "source": [
        "## Question 7 - Special Case $nin\n",
        "\n",
        "Return the count of documents that do not have any of the following cast members: \"Gèrard Depardieu\", \"Robert De Niro\", \"Morgan Freeman\", \"Samuel L. Jackson\",\"Nicolas Cage\", nor \"Bruce Willis\". \n"
      ]
    },
    {
      "cell_type": "code",
      "metadata": {
        "colab": {
          "base_uri": "https://localhost:8080/"
        },
        "id": "XRw9_h6-MHlG",
        "outputId": "8a44e251-0153-45b0-d615-bf4209b10fa0"
      },
      "source": [
        "original = movies[\"movies\"].count_documents(\n",
        "    {\n",
        "        \"cast\":{\"$nin\":[\"Gèrard Depardieu\", \"Robert De Niro\", \"Morgan Freeman\", \n",
        "                        \"Samuel L. Jackson\",\"Nicolas Cage\", \"Bruce Willis\"]}\n",
        "     }\n",
        ")\n",
        "\n",
        "# $nin - doesn't guarantee existence of \"cast\" field\n",
        "\n",
        "castExists = movies[\"movies\"].count_documents(\n",
        "    {\n",
        "        \"cast\":{\"$nin\":[\"Gèrard Depardieu\", \"Robert De Niro\", \"Morgan Freeman\", \n",
        "                        \"Samuel L. Jackson\",\"Nicolas Cage\", \"Bruce Willis\"],\n",
        "                \"$exists\": True}\n",
        "     }\n",
        ")\n",
        "\n",
        "castFalse = movies[\"movies\"].count_documents({\"cast\": {\"$exists\": False}})\n",
        "\n",
        "print(f'original count: {original} , cast exists: {castExists}, cast doesnt exist: {castFalse}')"
      ],
      "execution_count": null,
      "outputs": [
        {
          "output_type": "stream",
          "text": [
            "original count: 23217 , cast exists: 22827, cast doesnt exist: 390\n"
          ],
          "name": "stdout"
        }
      ]
    },
    {
      "cell_type": "markdown",
      "metadata": {
        "id": "1PSXp3aiT4tM"
      },
      "source": [
        "\n",
        "\n",
        "## Question 8\n",
        "\n",
        "Write the following in MongoDB:\n",
        "    \n",
        "SELECT name, number_of_reviews, beds <br>\n",
        "FROM airbnb <br>\n",
        "WHERE number_of_reviews >= 200 <br>\n",
        "ORDER BY beds DESC <br>\n",
        "LIMIT 1"
      ]
    },
    {
      "cell_type": "code",
      "metadata": {
        "colab": {
          "base_uri": "https://localhost:8080/"
        },
        "id": "hegMJSVnQXuB",
        "outputId": "7e5935f7-1872-49f1-f578-17cb2d881ea4"
      },
      "source": [
        "list(\n",
        "    airbnb\n",
        "        .find(\n",
        "            {\"number_of_reviews\":{\"$gte\":200}},\n",
        "            {\"_id\":0, \"name\":1, \"number_of_reviews\":1, \"beds\":1}\n",
        "        )\n",
        "        .sort(\"beds\",-1)\n",
        "        .limit(1)\n",
        ")"
      ],
      "execution_count": null,
      "outputs": [
        {
          "output_type": "execute_result",
          "data": {
            "text/plain": [
              "[{'beds': 7,\n",
              "  'name': 'Beautiful Home Away From Home!',\n",
              "  'number_of_reviews': 219}]"
            ]
          },
          "metadata": {
            "tags": []
          },
          "execution_count": 25
        }
      ]
    },
    {
      "cell_type": "markdown",
      "metadata": {
        "id": "bJp2KxMWT4tN"
      },
      "source": [
        "## Question 9 - Special Case $ne\n",
        "\n",
        "Return the count of all documents where the \"tomates.viewer.rating\" value is \"$ne\" to 3."
      ]
    },
    {
      "cell_type": "code",
      "metadata": {
        "colab": {
          "base_uri": "https://localhost:8080/"
        },
        "id": "LYeWI1jqRo12",
        "outputId": "74ef49d7-66da-4a9d-9301-886d8db619b7"
      },
      "source": [
        "movies[\"movies\"].count_documents({\n",
        "    \"tomatoes.viewer.rating\": {\"$ne\":3, \"$exists\":True}\n",
        "})\n",
        "\n"
      ],
      "execution_count": null,
      "outputs": [
        {
          "output_type": "execute_result",
          "data": {
            "text/plain": [
              "22492"
            ]
          },
          "metadata": {
            "tags": []
          },
          "execution_count": 29
        }
      ]
    },
    {
      "cell_type": "markdown",
      "metadata": {
        "id": "Ic2SpBEtSfe6"
      },
      "source": [
        "\n",
        "\n",
        "```\n",
        "Movies document\n",
        "{\n",
        "    title: \"\",\n",
        "    director: \"\",\n",
        "    tomatoes: {\n",
        "        ...\n",
        "        viewer: {\n",
        "            ...\n",
        "            rating: INT\n",
        "        }\n",
        "    }\n",
        "}\n",
        "```\n",
        "\n"
      ]
    },
    {
      "cell_type": "markdown",
      "metadata": {
        "id": "6ytNYB2OT4tO"
      },
      "source": [
        "## Question 10 - $in\n",
        "\n",
        "Return the count of all the documents that have the \"property_type\" value of \"Bungalow\" and \"amenities\" that have the following items: \"TV\", \"Wifi\",\"Smart TV\", \"Heating\", \"Swimming Pool\", \"Waterfront\",\"Gym\",\"Beachfront\",\"Safe\",\"Refrigerator\", and a \"Tennis Court\".\n"
      ]
    },
    {
      "cell_type": "code",
      "metadata": {
        "colab": {
          "base_uri": "https://localhost:8080/"
        },
        "id": "SM2nQoODTUsN",
        "outputId": "41846e5b-ac7a-4ee3-c551-d0689b611a34"
      },
      "source": [
        "airbnb.count_documents({\n",
        "    \"property_type\": \"Bungalow\",\n",
        "    \"amenities\": {\"$in\": [\n",
        "                    \"TV\", \"Wifi\",\"Smart TV\", \"Heating\", \"Swimming Pool\", \"Waterfront\",\n",
        "                    \"Gym\",\"Beachfront\",\"Safe\",\"Refrigerator\", \"Tennis Court\"     \n",
        "    ]}\n",
        "})"
      ],
      "execution_count": null,
      "outputs": [
        {
          "output_type": "execute_result",
          "data": {
            "text/plain": [
              "14"
            ]
          },
          "metadata": {
            "tags": []
          },
          "execution_count": 30
        }
      ]
    },
    {
      "cell_type": "markdown",
      "metadata": {
        "id": "TYABWN2q7lQk"
      },
      "source": [
        "## Extra Question\n",
        "\n"
      ]
    },
    {
      "cell_type": "code",
      "metadata": {
        "colab": {
          "base_uri": "https://localhost:8080/"
        },
        "id": "WSzPtFaW9rb6",
        "outputId": "9f8d2ff5-1399-49aa-9695-2a9ccdd4a929"
      },
      "source": [
        "weather.find_one({})"
      ],
      "execution_count": null,
      "outputs": [
        {
          "output_type": "execute_result",
          "data": {
            "text/plain": [
              "{'_id': ObjectId('5553a998e4b02cf7151190b8'),\n",
              " 'airTemperature': {'quality': '1', 'value': -3.1},\n",
              " 'callLetters': 'VCSZ',\n",
              " 'dataSource': '4',\n",
              " 'dewPoint': {'quality': '9', 'value': 999.9},\n",
              " 'elevation': 9999,\n",
              " 'position': {'coordinates': [-47.9, 47.6], 'type': 'Point'},\n",
              " 'precipitationEstimatedObservation': {'discrepancy': '2',\n",
              "  'estimatedWaterDepth': 999},\n",
              " 'pressure': {'quality': '1', 'value': 1015.3},\n",
              " 'qualityControlProcess': 'V020',\n",
              " 'sections': ['AG1'],\n",
              " 'skyCondition': {'cavok': 'N',\n",
              "  'ceilingHeight': {'determination': '9', 'quality': '9', 'value': 99999}},\n",
              " 'st': 'x+47600-047900',\n",
              " 'ts': datetime.datetime(1984, 3, 5, 13, 0),\n",
              " 'type': 'FM-13',\n",
              " 'visibility': {'distance': {'quality': '9', 'value': 999999},\n",
              "  'variability': {'quality': '9', 'value': 'N'}},\n",
              " 'wind': {'direction': {'angle': 999, 'quality': '9'},\n",
              "  'speed': {'quality': '9', 'rate': 999.9},\n",
              "  'type': '9'}}"
            ]
          },
          "metadata": {
            "tags": []
          },
          "execution_count": 5
        }
      ]
    },
    {
      "cell_type": "code",
      "metadata": {
        "colab": {
          "base_uri": "https://localhost:8080/"
        },
        "id": "ZypWmq_t7uEj",
        "outputId": "59a163a8-5c21-41a9-8c48-ffc29fd42d9e"
      },
      "source": [
        "# weather.find_one({})\n",
        "\n",
        "# last value in sections field \n",
        "# last value in the position -> coordinates field\n",
        "# skyCondition -> ceilingHeight -> value\n",
        "# only project these fields\n",
        "\n",
        "\n",
        "weather.find_one(\n",
        "            {\"sections.3\": \"MW1\",\n",
        "            \"position.coordinates.1\":-19.3,\n",
        "            \"skyCondition.ceilingHeight.value\":22000},\n",
        "            {\"sections\":1, \"position\":1, \"skyCondition\":1}\n",
        "        )   "
      ],
      "execution_count": null,
      "outputs": [
        {
          "output_type": "execute_result",
          "data": {
            "text/plain": [
              "{'_id': ObjectId('5553a998e4b02cf7151190cf'),\n",
              " 'position': {'coordinates': [60.3, -19.3], 'type': 'Point'},\n",
              " 'sections': ['AG1', 'AY1', 'GF1', 'MW1'],\n",
              " 'skyCondition': {'cavok': 'N',\n",
              "  'ceilingHeight': {'determination': 'C', 'quality': '1', 'value': 22000}}}"
            ]
          },
          "metadata": {
            "tags": []
          },
          "execution_count": 11
        }
      ]
    },
    {
      "cell_type": "markdown",
      "metadata": {
        "id": "6h-5EJ6QT4tT"
      },
      "source": [
        "# Logical Operators\n",
        "\n",
        "~~~\n",
        "$and: Joins query clauses with a logical AND returns all documents that match the conditions of both clauses.\n",
        "$not: Inverts the effect of a query expression and returns documents that do not match the query expression.\n",
        "$nor: Joins query clauses with a logical NOR returns all documents that fail to match both clauses.\n",
        "$or: Joins query clauses with a logical OR returns all documents that match the conditions of either clause.\n",
        "~~~\n",
        "\n",
        "See https://docs.mongodb.com/manual/reference/operator/query-logical/ for more info."
      ]
    },
    {
      "cell_type": "markdown",
      "metadata": {
        "id": "kg3WVo_dT4tT"
      },
      "source": [
        "## Question 11\n",
        "\n",
        "Rewrite the above question (Question 10) using the $or operator. "
      ]
    },
    {
      "cell_type": "code",
      "metadata": {
        "colab": {
          "base_uri": "https://localhost:8080/"
        },
        "id": "j5PMYWS8-l9M",
        "outputId": "4221fa89-d844-474f-8541-2e87e2cc87c2"
      },
      "source": [
        "airbnb.count_documents({\n",
        "    \"property_type\": \"Bungalow\",\n",
        "    \"$or\":[\n",
        "           {\"amenities\":\"TV\"}, {\"amenities\":\"Wifi\"}, {\"amenities\":\"Smart TV\"}, \n",
        "           {\"amenities\":\"Heating\"}, {\"amenities\":\"Swimming Pool\"}, {\"amenities\":\"Waterfront\"}, \n",
        "           {\"amenities\":\"Gym\"}, {\"amenities\":\"Beachfront\"}, {\"amenities\":\"Safe\"},\n",
        "           {\"amenities\":\"Refrigerator\"}, {\"amenities\":\"Tennis Court\"}\n",
        "    ]\n",
        "})"
      ],
      "execution_count": null,
      "outputs": [
        {
          "output_type": "execute_result",
          "data": {
            "text/plain": [
              "14"
            ]
          },
          "metadata": {
            "tags": []
          },
          "execution_count": 14
        }
      ]
    },
    {
      "cell_type": "markdown",
      "metadata": {
        "id": "oCz5XZmFT4tU"
      },
      "source": [
        "## Question 12\n",
        "\n",
        "Return the count of all documents in the movies database and movies collection (i.e. movies[\"movies\"]) where the document had either a \"rated\" value of \"PG\" or \"PG-13\"."
      ]
    },
    {
      "cell_type": "code",
      "metadata": {
        "colab": {
          "base_uri": "https://localhost:8080/"
        },
        "id": "qHrpc7ZD_nuG",
        "outputId": "52850d58-db87-4dcc-9920-b5520afb8afd"
      },
      "source": [
        "movies[\"movies\"].count_documents({\n",
        "    \"rated\":{\"$in\":[\"PG\",\"PG-13\"]}\n",
        "})"
      ],
      "execution_count": null,
      "outputs": [
        {
          "output_type": "execute_result",
          "data": {
            "text/plain": [
              "4173"
            ]
          },
          "metadata": {
            "tags": []
          },
          "execution_count": 15
        }
      ]
    },
    {
      "cell_type": "markdown",
      "metadata": {
        "id": "W-gcnYYNT4tX"
      },
      "source": [
        "## Question 13 - conjunctive\n",
        "\n",
        "Return two movies sorted by year descending where either the \"awards.wins\" value is greater than 250 or \n",
        "the \"year\" is between 2000 and 2005."
      ]
    },
    {
      "cell_type": "code",
      "metadata": {
        "colab": {
          "base_uri": "https://localhost:8080/"
        },
        "id": "8gb6W4btA_5p",
        "outputId": "1771f2cb-06f7-4617-fd67-29f3df5f1835"
      },
      "source": [
        "list(\n",
        "    movies[\"movies\"]\n",
        "     .find(\n",
        "         {\"$or\":[\n",
        "                 {\"awards.wins\":{\"$gt\":250}},\n",
        "                 {\"year\":{\"$gte\":2000, \"$lte\":2005}}\n",
        "         ]},\n",
        "         {\"year\":1, \"title\":1, \"awards.wins\":1}\n",
        "     )\n",
        "     .sort(\"year\",-1)\n",
        "     .limit(2)\n",
        ")"
      ],
      "execution_count": null,
      "outputs": [
        {
          "output_type": "execute_result",
          "data": {
            "text/plain": [
              "[{'_id': ObjectId('573a13d5f29313caabd9cae7'),\n",
              "  'awards': {'wins': 267},\n",
              "  'title': '12 Years a Slave',\n",
              "  'year': 2013},\n",
              " {'_id': ObjectId('573a139af29313caabcf0e9d'),\n",
              "  'awards': {'wins': 1},\n",
              "  'title': 'Fantastic Four',\n",
              "  'year': 2005}]"
            ]
          },
          "metadata": {
            "tags": []
          },
          "execution_count": 17
        }
      ]
    },
    {
      "cell_type": "markdown",
      "metadata": {
        "id": "H-K2enl9T4tY"
      },
      "source": [
        "## Question 14 - disjunctive\n",
        "\n",
        "Return 3 movies sorted by year descending where either the \"awards.wins\" value is greater than 250 or \n",
        "the \"year\" is less than or equal to 2005 or greater than or equal to 2000."
      ]
    },
    {
      "cell_type": "code",
      "metadata": {
        "colab": {
          "base_uri": "https://localhost:8080/"
        },
        "id": "K4E0G-kZCtap",
        "outputId": "cdfa62d7-cb60-4842-bd66-a0bd5dd69fac"
      },
      "source": [
        "list(\n",
        "    movies[\"movies\"]\n",
        "     .find(\n",
        "         {\"$or\":[\n",
        "                 {\"awards.wins\":{\"$gt\":250}},\n",
        "                 {\"year\":{\"$gte\":2000}},\n",
        "                 {\"year\":{\"$lte\":2005}}\n",
        "         ]},\n",
        "         {\"year\":1, \"title\":1, \"awards.wins\":1}\n",
        "     )\n",
        "     .sort(\"year\",-1)\n",
        "     .limit(3)\n",
        ")"
      ],
      "execution_count": null,
      "outputs": [
        {
          "output_type": "execute_result",
          "data": {
            "text/plain": [
              "[{'_id': ObjectId('573a13e6f29313caabdc6a9a'),\n",
              "  'awards': {'wins': 1},\n",
              "  'title': 'The Masked Saint',\n",
              "  'year': 2016},\n",
              " {'_id': ObjectId('573a13b5f29313caabd42f7f'),\n",
              "  'awards': {'wins': 1},\n",
              "  'title': 'Ex Machina',\n",
              "  'year': 2015},\n",
              " {'_id': ObjectId('573a13b1f29313caabd3719d'),\n",
              "  'awards': {'wins': 3},\n",
              "  'title': 'The Stanford Prison Experiment',\n",
              "  'year': 2015}]"
            ]
          },
          "metadata": {
            "tags": []
          },
          "execution_count": 19
        }
      ]
    },
    {
      "cell_type": "markdown",
      "metadata": {
        "id": "jyfRuKJBT4tZ"
      },
      "source": [
        "## Question 15 \n",
        "\n",
        "Return a movie that has a \"runtime\" of greater than 90, a year greater than 2000, \n",
        "and an \"imdb.votes\" less than 40."
      ]
    },
    {
      "cell_type": "code",
      "metadata": {
        "colab": {
          "base_uri": "https://localhost:8080/"
        },
        "id": "V5SbOVp0GeOb",
        "outputId": "263b7a2d-2f31-4905-e0bf-54814021ba8a"
      },
      "source": [
        "list(\n",
        "    movies[\"movies\"].find({\n",
        "        \"$and\":[\n",
        "                {\"runtime\":{\"$gt\":90}},\n",
        "                {\"year\":{\"$gt\":2000}},\n",
        "                {\"imdb.votes\":{\"$lt\":40}}\n",
        "        ]\n",
        "    },\n",
        "    {\"runtime\":1, \"year\":1, \"imdb.votes\":1}\n",
        "    )\n",
        "    .sort(\"year\",-1)\n",
        "    .limit(1)\n",
        ")"
      ],
      "execution_count": null,
      "outputs": [
        {
          "output_type": "execute_result",
          "data": {
            "text/plain": [
              "[{'_id': ObjectId('573a13c3f29313caabd6a3ad'),\n",
              "  'imdb': {'votes': 21},\n",
              "  'runtime': 100,\n",
              "  'year': 2015}]"
            ]
          },
          "metadata": {
            "tags": []
          },
          "execution_count": 21
        }
      ]
    },
    {
      "cell_type": "markdown",
      "metadata": {
        "id": "JdVVr38wT4tZ"
      },
      "source": [
        "## Question 16 - review several ways of $and\n",
        "\n",
        "Return the document's title sorted by \"year\" descending that has a \"runtime\" value greater than 100, \"year\" greater than 2000 and less than 2005, and an \"imdb.votes\" value less than 30. Show 3 different ways of writing this query.  "
      ]
    },
    {
      "cell_type": "code",
      "metadata": {
        "colab": {
          "base_uri": "https://localhost:8080/"
        },
        "id": "9R20bJ-7HiC8",
        "outputId": "cb179812-8b5a-4adc-a120-8d5d340371b1"
      },
      "source": [
        "# way1\n",
        "\n",
        "list(\n",
        "    movies[\"movies\"].find({\n",
        "        \"$and\":[\n",
        "                {\"runtime\":{\"$gt\":100}},\n",
        "                {\"year\":{\"$gt\":2000, \"$lt\":2005}},\n",
        "                {\"imdb.votes\":{\"$lt\":30}}\n",
        "        ]\n",
        "    },\n",
        "    {\"runtime\":1, \"year\":1, \"imdb.votes\":1}\n",
        "    )\n",
        "    .sort(\"year\",-1)\n",
        "    .limit(1)\n",
        ")"
      ],
      "execution_count": null,
      "outputs": [
        {
          "output_type": "execute_result",
          "data": {
            "text/plain": [
              "[{'_id': ObjectId('573a13a9f29313caabd1e696'),\n",
              "  'imdb': {'votes': 10},\n",
              "  'runtime': 113,\n",
              "  'year': 2002}]"
            ]
          },
          "metadata": {
            "tags": []
          },
          "execution_count": 22
        }
      ]
    },
    {
      "cell_type": "code",
      "metadata": {
        "colab": {
          "base_uri": "https://localhost:8080/"
        },
        "id": "G1M0gs1sIF1i",
        "outputId": "e6b8296c-5728-4f10-88ee-4bab43a738cc"
      },
      "source": [
        "# way2\n",
        "\n",
        "list(\n",
        "    movies[\"movies\"].find({\n",
        "        \"runtime\":{\"$gt\":100},\n",
        "        \"year\":{\"$gt\":2000, \"$lt\":2005},\n",
        "        \"imdb.votes\":{\"$lt\":30}\n",
        "    },\n",
        "    {\"runtime\":1, \"year\":1, \"imdb.votes\":1}\n",
        "    )\n",
        "    .sort(\"year\",-1)\n",
        "    .limit(1)\n",
        ")"
      ],
      "execution_count": null,
      "outputs": [
        {
          "output_type": "execute_result",
          "data": {
            "text/plain": [
              "[{'_id': ObjectId('573a13a9f29313caabd1e696'),\n",
              "  'imdb': {'votes': 10},\n",
              "  'runtime': 113,\n",
              "  'year': 2002}]"
            ]
          },
          "metadata": {
            "tags": []
          },
          "execution_count": 24
        }
      ]
    },
    {
      "cell_type": "code",
      "metadata": {
        "colab": {
          "base_uri": "https://localhost:8080/"
        },
        "id": "lD6sBTGKIveI",
        "outputId": "befd7d3f-4cd7-4b0b-9f4a-35b8b4f84a7a"
      },
      "source": [
        "# way3\n",
        "\n",
        "list(\n",
        "    movies[\"movies\"].find({\n",
        "        \"runtime\":{\"$gt\":100},\n",
        "        \"imdb.votes\":{\"$lt\":30},\n",
        "        \"$and\":[\n",
        "                {\"year\":{\"$gt\":2000}},\n",
        "                {\"year\":{\"$lt\":2005}}\n",
        "        ]\n",
        "    },\n",
        "    {\"runtime\":1, \"year\":1, \"imdb.votes\":1}\n",
        "    )\n",
        "    .sort(\"year\",-1)\n",
        "    .limit(1)\n",
        ")"
      ],
      "execution_count": null,
      "outputs": [
        {
          "output_type": "execute_result",
          "data": {
            "text/plain": [
              "[{'_id': ObjectId('573a13a9f29313caabd1e696'),\n",
              "  'imdb': {'votes': 10},\n",
              "  'runtime': 113,\n",
              "  'year': 2002}]"
            ]
          },
          "metadata": {
            "tags": []
          },
          "execution_count": 26
        }
      ]
    },
    {
      "cell_type": "markdown",
      "metadata": {
        "id": "-s7LovDwT4ta"
      },
      "source": [
        "## Question 17 - implicit vs explicit $and\n",
        "\n",
        "\n",
        "Return a document that has a \"type\" of movie, and where the \"year\" value is less than 1930 or rated a \"PG\", and the \"imdb.votes\" is greater than 100 or the runtime is greater than 120. Sort by year ascending"
      ]
    },
    {
      "cell_type": "code",
      "metadata": {
        "colab": {
          "base_uri": "https://localhost:8080/"
        },
        "id": "gSWZpDuvLrB3",
        "outputId": "d9039a87-aaf3-485a-dc83-23f72ece6080"
      },
      "source": [
        "list(\n",
        "    movies[\"movies\"]\n",
        "     .find({\"$and\":[\n",
        "            {\"type\":\"movie\"},\n",
        "            {\"$or\":[\n",
        "                    {\"year\":{\"$lt\":1930}},\n",
        "                    {\"rated\":\"PG\"}\n",
        "            ]},\n",
        "            {\"$or\":[\n",
        "                    {\"imdb.votes\":{\"$gt\":100}},\n",
        "                    {\"runtime\":{\"$gt\":120}}\n",
        "            ]}\n",
        "    ]},\n",
        "    {\"type\":1, \"year\":1, \"rated\":1, \"imdb.votes\":1, \"runtime\":1, \"title\":1}\n",
        "    )\n",
        "    .sort([(\"year\",-1), (\"title\",1)])\n",
        "    .limit(1)\n",
        ")"
      ],
      "execution_count": null,
      "outputs": [
        {
          "output_type": "execute_result",
          "data": {
            "text/plain": [
              "[{'_id': ObjectId('573a13f2f29313caabdde2fc'),\n",
              "  'imdb': {'votes': 679},\n",
              "  'rated': 'PG',\n",
              "  'runtime': 87,\n",
              "  'title': 'Batkid Begins',\n",
              "  'type': 'movie',\n",
              "  'year': 2015}]"
            ]
          },
          "metadata": {
            "tags": []
          },
          "execution_count": 40
        }
      ]
    },
    {
      "cell_type": "markdown",
      "metadata": {
        "id": "GcbtwqcSSrwy"
      },
      "source": [
        "## complex sort\n",
        "\n",
        "\n",
        "\n",
        "```\n",
        ".sort([(\"field1\", -1/1), (\"field2\", -1/1),...])\n",
        "```\n",
        "\n"
      ]
    },
    {
      "cell_type": "markdown",
      "metadata": {
        "id": "zYSfxoTbT4tc"
      },
      "source": [
        "## Question 18\n",
        "\n",
        "Return the count of all the documents in training['grades'] dataset where none of the \"scores.score\" values are less than 93.5"
      ]
    },
    {
      "cell_type": "code",
      "metadata": {
        "colab": {
          "base_uri": "https://localhost:8080/"
        },
        "id": "nMXFNkZfUfdH",
        "outputId": "829df0c8-3e0c-42a3-d4e4-99ad601f0dac"
      },
      "source": [
        "training[\"grades\"].find_one({})"
      ],
      "execution_count": null,
      "outputs": [
        {
          "output_type": "execute_result",
          "data": {
            "text/plain": [
              "{'_id': ObjectId('56d5f7eb604eb380b0d8d8ce'),\n",
              " 'class_id': 339.0,\n",
              " 'scores': [{'score': 78.40446309504266, 'type': 'exam'},\n",
              "  {'score': 73.36224783231339, 'type': 'quiz'},\n",
              "  {'score': 46.980982486720535, 'type': 'homework'},\n",
              "  {'score': 76.67556138656222, 'type': 'homework'}],\n",
              " 'student_id': 0.0}"
            ]
          },
          "metadata": {
            "tags": []
          },
          "execution_count": 42
        }
      ]
    },
    {
      "cell_type": "code",
      "metadata": {
        "colab": {
          "base_uri": "https://localhost:8080/"
        },
        "id": "tOqKSvrvUCjQ",
        "outputId": "555826f9-6a41-44fd-eeac-bef64250d68e"
      },
      "source": [
        "notAny = training[\"grades\"].count_documents({\n",
        "    \"scores.score\": {\"$not\":{\"$lt\":93.5}}\n",
        "})\n",
        "\n",
        "gt = training[\"grades\"].count_documents({\n",
        "    \"scores.score\": {\"$gte\":93.5}\n",
        "})\n",
        "\n",
        "print(f'r1: {notAny}, r2: {gt}')"
      ],
      "execution_count": null,
      "outputs": [
        {
          "output_type": "stream",
          "text": [
            "r1: 2, r2: 23564\n"
          ],
          "name": "stdout"
        }
      ]
    },
    {
      "cell_type": "markdown",
      "metadata": {
        "id": "CJrUwBg-T4td"
      },
      "source": [
        "# Other Operators\n",
        "\n",
        "Element, Evaluation, Geospatial, and Array operators\n",
        "\n",
        "~~~\n",
        "$text: Performs text search.\n",
        "{\n",
        "  $text:\n",
        "    {\n",
        "      $search: <string>,\n",
        "      $language: <string>,\n",
        "      $caseSensitive: <boolean>,\n",
        "      $diacriticSensitive: <boolean>\n",
        "    }\n",
        "}\n",
        "\n",
        "\n",
        "$elemMatch: Selects documents if element in the array field matches all the specified $elemMatch conditions.\n",
        "{ <field>: { $elemMatch: { <query1>, <query2>, ... } } }\n",
        "\n",
        "\n",
        "\n",
        "$size: Selects documents if the array field is a specified size.\n",
        "{ <field>: { $size: value } }\n",
        "\n",
        "\n",
        "\n",
        "$all: Matches arrays that contain all elements specified in the query.\n",
        "{ <field>: { $all: [ <value1> , <value2> ... ] } }\n",
        "\n",
        "~~~\n",
        "text - https://docs.mongodb.com/manual/reference/operator/query/text <br>\n",
        "elemMatch - https://docs.mongodb.com/manual/reference/operator/query/elemMatch/ <br>\n",
        "size - https://docs.mongodb.com/manual/reference/operator/query/size/ <br>\n",
        "all - https://docs.mongodb.com/manual/reference/operator/query/all/"
      ]
    },
    {
      "cell_type": "markdown",
      "metadata": {
        "id": "O6-IH6QYT4td"
      },
      "source": [
        "## Question 19 - $text\n",
        "\n",
        "Return the documents sorted by beds descending that have the word \"park\" or the phrase \"los angeles\" in the description field (index has already been created on \"description\") in the Airbnb dataset. Only return the description, name and limit to 1 result sorted by \"beds\" descending."
      ]
    },
    {
      "cell_type": "markdown",
      "metadata": {
        "id": "sDSfQfIZT4te"
      },
      "source": [
        "## Question 20 - $elemMatch\n",
        "\n",
        "In the geospatial dataset, sorted by \"latdec\" descending, find a document where the \"coordinates\" the longitude value is greater than -90 but less than or equal -88. Limit to 1 result. "
      ]
    },
    {
      "cell_type": "code",
      "metadata": {
        "colab": {
          "base_uri": "https://localhost:8080/"
        },
        "id": "MPE3Cl1FVq7T",
        "outputId": "f7fd5443-2acc-411d-b4ba-058e0aa649f4"
      },
      "source": [
        "geospatial.find_one({})"
      ],
      "execution_count": null,
      "outputs": [
        {
          "output_type": "execute_result",
          "data": {
            "text/plain": [
              "{'_id': ObjectId('578f6fa2df35c7fbdbaed8c4'),\n",
              " 'chart': 'US,U1,graph,DNC H1409860',\n",
              " 'coordinates': [-79.9081268, 9.3547792],\n",
              " 'depth': '',\n",
              " 'feature_type': 'Wrecks - Visible',\n",
              " 'gp_quality': '',\n",
              " 'history': '',\n",
              " 'latdec': 9.3547792,\n",
              " 'londec': -79.9081268,\n",
              " 'quasou': '',\n",
              " 'recrd': '',\n",
              " 'sounding_type': '',\n",
              " 'vesslterms': '',\n",
              " 'watlev': 'always dry'}"
            ]
          },
          "metadata": {
            "tags": []
          },
          "execution_count": 47
        }
      ]
    },
    {
      "cell_type": "code",
      "metadata": {
        "colab": {
          "base_uri": "https://localhost:8080/"
        },
        "id": "tfrCRqjD6A05",
        "outputId": "d28bcc95-3984-46a3-86b8-9b1ba4d1b1e1"
      },
      "source": [
        "list(\n",
        "    geospatial\n",
        "     .find({\n",
        "         \"coordinates\": {\"$elemMatch\": {\n",
        "             \"$lte\": -88, \"$gt\": -90\n",
        "         }}\n",
        "     })\n",
        "     .sort([('latdec', -1), (\"longdec\", -1)])\n",
        "     .limit(1)\n",
        ")"
      ],
      "execution_count": null,
      "outputs": [
        {
          "output_type": "execute_result",
          "data": {
            "text/plain": [
              "[{'_id': ObjectId('578f6fa3df35c7fbdbaee7ef'),\n",
              "  'chart': 'US,US,graph,chart 14976',\n",
              "  'coordinates': [-88.49157, 48.200457],\n",
              "  'depth': '',\n",
              "  'feature_type': 'Wrecks - Submerged, dangerous',\n",
              "  'gp_quality': '',\n",
              "  'history': '',\n",
              "  'latdec': 48.200457,\n",
              "  'londec': -88.49157,\n",
              "  'quasou': 'depth unknown',\n",
              "  'recrd': '',\n",
              "  'sounding_type': '',\n",
              "  'vesslterms': '',\n",
              "  'watlev': 'always under water/submerged'}]"
            ]
          },
          "metadata": {
            "tags": []
          },
          "execution_count": 6
        }
      ]
    },
    {
      "cell_type": "code",
      "metadata": {
        "colab": {
          "base_uri": "https://localhost:8080/"
        },
        "id": "11IZXzrz8X1Y",
        "outputId": "507687a7-446c-4040-eade-d9ba92e973a4"
      },
      "source": [
        "geospatial.count_documents({\n",
        "    \"coordinates\": {\"$lte\": -88, \"$gt\": -90}\n",
        "})"
      ],
      "execution_count": null,
      "outputs": [
        {
          "output_type": "execute_result",
          "data": {
            "text/plain": [
              "3695"
            ]
          },
          "metadata": {
            "tags": []
          },
          "execution_count": 4
        }
      ]
    },
    {
      "cell_type": "code",
      "metadata": {
        "colab": {
          "base_uri": "https://localhost:8080/"
        },
        "id": "jZEcQPGw9wAe",
        "outputId": "f36dcf8a-0a1b-4189-c211-0a7860fb7109"
      },
      "source": [
        "geospatial.count_documents({\n",
        "    \"coordinates\": {\"$elemMatch\": {\n",
        "             \"$lte\": -88, \"$gt\": -90\n",
        "         }}\n",
        "})"
      ],
      "execution_count": null,
      "outputs": [
        {
          "output_type": "execute_result",
          "data": {
            "text/plain": [
              "768"
            ]
          },
          "metadata": {
            "tags": []
          },
          "execution_count": 5
        }
      ]
    },
    {
      "cell_type": "markdown",
      "metadata": {
        "id": "Gw2u_7O0T4tf"
      },
      "source": [
        "## Question 21 - $elemMatch\n",
        "\n",
        "In the training[\"companies\"] dataset, return the count of documents that have at least one embedded document in the \"relationships\" field where the \"person.first_name\" value is \"Ben\" and the \"is_past\" value is False. Compare this count with the count of documents where the \"relationships\" field has an \"is_past\" value of false and a \"person.first_name\" value of \"Ben\"."
      ]
    },
    {
      "cell_type": "code",
      "metadata": {
        "colab": {
          "base_uri": "https://localhost:8080/"
        },
        "id": "WitXOxzbV6RF",
        "outputId": "8e42c11a-fde7-4f08-b62a-3326a2e22635"
      },
      "source": [
        "eleMatch = training[\"companies\"].count_documents({\n",
        "    \"relationships\":{\n",
        "        \"$elemMatch\":{\n",
        "            \"is_past\":False, \"person.first_name\":\"Ben\"\n",
        "        }\n",
        "    }\n",
        "})\n",
        "\n",
        "noMatch = training[\"companies\"].count_documents({\n",
        "    \"relationships.person.first_name\":\"Ben\",\n",
        "    \"relationships.is_past\":False\n",
        "})\n",
        "\n",
        "print(f'elematch:{eleMatch}, noMatch:{noMatch}')"
      ],
      "execution_count": null,
      "outputs": [
        {
          "output_type": "stream",
          "text": [
            "elematch:93, noMatch:167\n"
          ],
          "name": "stdout"
        }
      ]
    },
    {
      "cell_type": "markdown",
      "metadata": {
        "id": "oyp3mTjwXxWd"
      },
      "source": [
        "\n",
        "\n",
        "```\n",
        "\n",
        "{\n",
        "...\n",
        "relationships:[\n",
        "    {person: {first_name: \"Ben\" }, is_past: False, ...}, <-- elemMatch is looking this\n",
        "    {person: {first_name}, is_past: , ...}\n",
        "]\n",
        "```\n",
        "\n"
      ]
    },
    {
      "cell_type": "markdown",
      "metadata": {
        "id": "tAgqvsewT4tf"
      },
      "source": [
        "## Question 22 - $elemMatch\n",
        "\n",
        "In the grades collection, find a document where one element matches the type of \"scores.type\" \n",
        "of \"exam\" and \"scores.score\" is greater than 97."
      ]
    },
    {
      "cell_type": "code",
      "metadata": {
        "colab": {
          "base_uri": "https://localhost:8080/"
        },
        "id": "NjXK4g-A-278",
        "outputId": "886d02ba-8d20-4d54-e1b6-60feb5ad8bfc"
      },
      "source": [
        "# right solution\n",
        "list(\n",
        "    grades\n",
        "     .find({\n",
        "         \"scores\":{\n",
        "             \"$elemMatch\":{\n",
        "                 \"type\": \"exam\",\n",
        "                 \"score\":{\"$gt\":97}\n",
        "             }\n",
        "         }\n",
        "     })\n",
        "     .sort(\"student_id\", 1)\n",
        "     .limit(1)\n",
        ")"
      ],
      "execution_count": null,
      "outputs": [
        {
          "output_type": "execute_result",
          "data": {
            "text/plain": [
              "[{'_id': ObjectId('56d5f7eb604eb380b0d8d8e3'),\n",
              "  'class_id': 429.0,\n",
              "  'scores': [{'score': 99.96286009070468, 'type': 'exam'},\n",
              "   {'score': 52.9003854892853, 'type': 'quiz'},\n",
              "   {'score': 27.810982235359972, 'type': 'homework'},\n",
              "   {'score': 12.603238222320968, 'type': 'homework'}],\n",
              "  'student_id': 2.0}]"
            ]
          },
          "metadata": {
            "tags": []
          },
          "execution_count": 9
        }
      ]
    },
    {
      "cell_type": "code",
      "metadata": {
        "colab": {
          "base_uri": "https://localhost:8080/"
        },
        "id": "_I5zKBsb_ZW_",
        "outputId": "6abf6710-010d-42ec-b8d6-534feb4b9c80"
      },
      "source": [
        "# no $elemMatch\n",
        "list(\n",
        "    grades\n",
        "     .find({\n",
        "         \"scores.score\":{\"$gt\":97},\n",
        "         \"scores.type\": \"exam\"\n",
        "     })\n",
        "     .sort(\"student_id\", 1)\n",
        "     .limit(1)\n",
        ")"
      ],
      "execution_count": null,
      "outputs": [
        {
          "output_type": "execute_result",
          "data": {
            "text/plain": [
              "[{'_id': ObjectId('56d5f7eb604eb380b0d8d8d4'),\n",
              "  'class_id': 57.0,\n",
              "  'scores': [{'score': 20.2317531451231, 'type': 'exam'},\n",
              "   {'score': 97.5705578455598, 'type': 'quiz'},\n",
              "   {'score': 15.645222266486435, 'type': 'homework'},\n",
              "   {'score': 21.03830826968486, 'type': 'homework'}],\n",
              "  'student_id': 0.0}]"
            ]
          },
          "metadata": {
            "tags": []
          },
          "execution_count": 10
        }
      ]
    },
    {
      "cell_type": "code",
      "metadata": {
        "colab": {
          "base_uri": "https://localhost:8080/"
        },
        "id": "TMXtxGl4Adsb",
        "outputId": "426c2861-8f52-4ace-8600-052719d64b7a"
      },
      "source": [
        "\n",
        "list(\n",
        "    grades\n",
        "     .find({\n",
        "         \"scores.score\":{\"$not\": {\"$lt\":94}},\n",
        "         \"scores.type\": \"exam\"\n",
        "     })\n",
        "     .sort(\"student_id\", 1)\n",
        "     .limit(1)\n",
        ")"
      ],
      "execution_count": null,
      "outputs": [
        {
          "output_type": "execute_result",
          "data": {
            "text/plain": [
              "[{'_id': ObjectId('56d5f7ec604eb380b0d916fb'),\n",
              "  'class_id': 213.0,\n",
              "  'scores': [{'score': 95.3659889919497, 'type': 'exam'},\n",
              "   {'score': 97.0992790948561, 'type': 'quiz'},\n",
              "   {'score': 96.27300118012238, 'type': 'homework'},\n",
              "   {'score': 94.84311311981534, 'type': 'homework'}],\n",
              "  'student_id': 1591.0}]"
            ]
          },
          "metadata": {
            "tags": []
          },
          "execution_count": 11
        }
      ]
    },
    {
      "cell_type": "markdown",
      "metadata": {
        "id": "-Y2AcHAcT4tg"
      },
      "source": [
        "## Question 23 - $size\n",
        "\n",
        "In the Airbnb dataset, return the count of documents that have an \"amenities\" field size of 25.\n"
      ]
    },
    {
      "cell_type": "code",
      "metadata": {
        "colab": {
          "base_uri": "https://localhost:8080/"
        },
        "id": "tmSBsETnBCqW",
        "outputId": "47610cbe-e619-443f-8c6c-74785e6a49d3"
      },
      "source": [
        "# $size - evaluates size of array\n",
        "\n",
        "airbnb.count_documents({\"amenities\": {\"$size\" :25}})"
      ],
      "execution_count": null,
      "outputs": [
        {
          "output_type": "execute_result",
          "data": {
            "text/plain": [
              "173"
            ]
          },
          "metadata": {
            "tags": []
          },
          "execution_count": 12
        }
      ]
    },
    {
      "cell_type": "markdown",
      "metadata": {
        "id": "vdNB2B6ZT4th"
      },
      "source": [
        "## Question 24 - $all\n",
        "\n",
        "Return the count of documents that have all the following values in the \"amenities\" field: 'TV', 'Kitchen', 'Wifi', 'Internet','Cable TV', 'Coffee maker', 'Cooking basics','Family/kid friendly', 'Gym', and 'Heating'. "
      ]
    },
    {
      "cell_type": "code",
      "metadata": {
        "colab": {
          "base_uri": "https://localhost:8080/"
        },
        "id": "WvX9jpEZBlni",
        "outputId": "97cde166-9c53-46a8-dfa2-94cf96238818"
      },
      "source": [
        "airbnb.count_documents({\n",
        "    \"amenities\": {\"$all\": [\n",
        "                     'TV', 'Kitchen', 'Wifi', 'Internet','Cable TV', 'Coffee maker', \n",
        "                     'Cooking basics','Family/kid friendly', 'Gym', 'Heating'      \n",
        "    ]}\n",
        "})"
      ],
      "execution_count": null,
      "outputs": [
        {
          "output_type": "execute_result",
          "data": {
            "text/plain": [
              "8"
            ]
          },
          "metadata": {
            "tags": []
          },
          "execution_count": 13
        }
      ]
    },
    {
      "cell_type": "code",
      "metadata": {
        "colab": {
          "base_uri": "https://localhost:8080/"
        },
        "id": "1sRMfD7eCGRq",
        "outputId": "25f51f06-f419-4995-ddfb-ea294ddb907e"
      },
      "source": [
        "airbnb.count_documents({\n",
        "    \"amenities\": {\"$in\": [\n",
        "                     'TV', 'Kitchen', 'Wifi', 'Internet','Cable TV', 'Coffee maker', \n",
        "                     'Cooking basics','Family/kid friendly', 'Gym', 'Heating'      \n",
        "    ]}\n",
        "})"
      ],
      "execution_count": null,
      "outputs": [
        {
          "output_type": "execute_result",
          "data": {
            "text/plain": [
              "5514"
            ]
          },
          "metadata": {
            "tags": []
          },
          "execution_count": 14
        }
      ]
    },
    {
      "cell_type": "markdown",
      "metadata": {
        "id": "J6pRxlNrT4th"
      },
      "source": [
        "## Question 25 - $all with elemMatch\n",
        "\n",
        "Return a single document sorted by class_id descending where there's one embeddded document that has \"scores.type\" of exam and \"scores.score\" of greater than 97, \"scores.type\" of quiz and \"scores.score\" of greater than 96, and\n",
        "\"scores.type\" of homework and \"scores.score\" of greater than 95."
      ]
    },
    {
      "cell_type": "code",
      "metadata": {
        "colab": {
          "base_uri": "https://localhost:8080/"
        },
        "id": "JnmMUeMKCKTw",
        "outputId": "9c61f467-d20a-4b96-c18c-83975fa644a6"
      },
      "source": [
        "# exam, gt 97\n",
        "# quiz, gt 96\n",
        "# homework, gt 95\n",
        "\n",
        "list(\n",
        "    grades\n",
        "     .find({\n",
        "         \"scores\":{\n",
        "             \"$all\":[\n",
        "                     {\"$elemMatch\":{\"type\": \"exam\", \"score\": {\"$gt\": 97}}},\n",
        "                     {\"$elemMatch\":{\"type\": \"quiz\", \"score\": {\"$gt\": 96}}},\n",
        "                     {\"$elemMatch\":{\"type\": \"homework\", \"score\": {\"$gt\": 95}}}\n",
        "             ]\n",
        "         }\n",
        "     })\n",
        "     .sort(\"student_id\", -1)\n",
        "     .limit(1)\n",
        ")"
      ],
      "execution_count": null,
      "outputs": [
        {
          "output_type": "execute_result",
          "data": {
            "text/plain": [
              "[{'_id': ObjectId('56d5f7f1604eb380b0da4b05'),\n",
              "  'class_id': 439.0,\n",
              "  'scores': [{'score': 97.70221871186124, 'type': 'exam'},\n",
              "   {'score': 98.38639086583655, 'type': 'quiz'},\n",
              "   {'score': 43.71678839949483, 'type': 'homework'},\n",
              "   {'score': 97.78339211813662, 'type': 'homework'}],\n",
              "  'student_id': 9477.0}]"
            ]
          },
          "metadata": {
            "tags": []
          },
          "execution_count": 16
        }
      ]
    },
    {
      "cell_type": "code",
      "metadata": {
        "id": "hM-AeRBST4ti"
      },
      "source": [
        "# exam, gt 97\n",
        "# quiz, gt 96\n",
        "# homework, gt 95\n",
        "\n",
        "list(\n",
        "    grades\n",
        "     .find({\n",
        "         \"scores\":{\n",
        "             \"$all\":[\n",
        "                     {\"$elemMatch\":{\"type\": \"exam\", \"score\": {\"$gt\": 97}}},\n",
        "                     {\"$elemMatch\":{\"type\": \"quiz\", \"score\": {\"$gt\": 96}}},\n",
        "                     {\"$elemMatch\":{\"type\": \"homework\", \"score\": {\"$gt\": 95}}}\n",
        "             ]\n",
        "         }\n",
        "     })\n",
        "     .sort(\"student_id\", -1)\n",
        "     .limit(1)\n",
        ")"
      ],
      "execution_count": null,
      "outputs": []
    },
    {
      "cell_type": "code",
      "metadata": {
        "id": "1TcGVcHiT4ti"
      },
      "source": [
        ""
      ],
      "execution_count": null,
      "outputs": []
    },
    {
      "cell_type": "code",
      "metadata": {
        "id": "jJKaw8nxT4tj"
      },
      "source": [
        ""
      ],
      "execution_count": null,
      "outputs": []
    },
    {
      "cell_type": "code",
      "metadata": {
        "id": "n4GKFsSdT4tj"
      },
      "source": [
        ""
      ],
      "execution_count": null,
      "outputs": []
    },
    {
      "cell_type": "code",
      "metadata": {
        "id": "PGxKqdrIT4tj"
      },
      "source": [
        ""
      ],
      "execution_count": null,
      "outputs": []
    }
  ]
}